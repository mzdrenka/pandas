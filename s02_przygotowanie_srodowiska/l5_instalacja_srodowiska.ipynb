{
 "cells": [
  {
   "cell_type": "code",
   "execution_count": 1,
   "id": "fefff397-20ab-49bc-a24a-c81242bd44ff",
   "metadata": {},
   "outputs": [
    {
     "name": "stdout",
     "output_type": "stream",
     "text": [
      "12662\n"
     ]
    }
   ],
   "source": [
    "from datetime import datetime\n",
    " \n",
    "  \n",
    "birthday = datetime(1989, 8, 17, 0, 0, 0)\n",
    " \n",
    "  \n",
    "diff = datetime.today() - birthday\n",
    " \n",
    "  \n",
    "print(diff.days)"
   ]
  },
  {
   "cell_type": "code",
   "execution_count": null,
   "id": "e53ac2a9-711d-4b94-a381-77c221ebee12",
   "metadata": {},
   "outputs": [],
   "source": []
  }
 ],
 "metadata": {
  "kernelspec": {
   "display_name": "Python 3 (ipykernel)",
   "language": "python",
   "name": "python3"
  },
  "language_info": {
   "codemirror_mode": {
    "name": "ipython",
    "version": 3
   },
   "file_extension": ".py",
   "mimetype": "text/x-python",
   "name": "python",
   "nbconvert_exporter": "python",
   "pygments_lexer": "ipython3",
   "version": "3.11.7"
  }
 },
 "nbformat": 4,
 "nbformat_minor": 5
}
